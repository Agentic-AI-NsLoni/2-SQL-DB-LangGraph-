{
 "cells": [
  {
   "cell_type": "code",
   "execution_count": 20,
   "id": "acda1d3f",
   "metadata": {},
   "outputs": [],
   "source": [
    "import sqlite3"
   ]
  },
  {
   "cell_type": "code",
   "execution_count": 21,
   "id": "df428c63",
   "metadata": {},
   "outputs": [],
   "source": [
    "connection = sqlite3.connect('example.db')"
   ]
  },
  {
   "cell_type": "code",
   "execution_count": 22,
   "id": "977c7e54",
   "metadata": {},
   "outputs": [
    {
     "data": {
      "text/plain": [
       "<sqlite3.Connection at 0x286810116c0>"
      ]
     },
     "execution_count": 22,
     "metadata": {},
     "output_type": "execute_result"
    }
   ],
   "source": [
    "connection"
   ]
  },
  {
   "cell_type": "code",
   "execution_count": 23,
   "id": "9ca98644",
   "metadata": {},
   "outputs": [],
   "source": [
    "table_creation_query1=\"\"\"\n",
    "CREATE TABLE IF NOT EXISTS employees(\n",
    "    emp_id INTEGER PRIMARY KEY,\n",
    "    first_name TEXT NOT NULL,\n",
    "    last_name TEXT NOT NULL,\n",
    "    email TEXT UNIQUE NOT NULL,\n",
    "    hire_date TEXT NOT NULL,\n",
    "    salary REAL NOT NULL\n",
    ");\n",
    "\"\"\"\n"
   ]
  },
  {
   "cell_type": "code",
   "execution_count": 24,
   "id": "d6761090",
   "metadata": {},
   "outputs": [],
   "source": [
    "table_creation_query2=\"\"\"\n",
    "CREATE TABLE IF NOT EXISTS customers(\n",
    "    cust_id INTEGER PRIMARY KEY,\n",
    "    first_name TEXT NOT NULL,\n",
    "    last_name TEXT NOT NULL,\n",
    "    email TEXT UNIQUE NOT NULL,\n",
    "    phone TEXT\n",
    ");\n",
    "\"\"\"\n"
   ]
  },
  {
   "cell_type": "code",
   "execution_count": 25,
   "id": "9262192b",
   "metadata": {},
   "outputs": [],
   "source": [
    "table_creation_query3=\"\"\"\n",
    "CREATE TABLE IF NOT EXISTS orders(\n",
    "    order_id INTEGER PRIMARY KEY,\n",
    "    cust_id TEXT NOT NULL,\n",
    "    order_date TEXT NOT NULL,\n",
    "    ammount REAL NOT NULL,\n",
    "    FOREIGN KEY(cust_id) REFERENCES customers(cust_id)\n",
    ");\n",
    "\"\"\"\n"
   ]
  },
  {
   "cell_type": "code",
   "execution_count": 26,
   "id": "62d775c0",
   "metadata": {},
   "outputs": [],
   "source": [
    "cursor = connection.cursor()"
   ]
  },
  {
   "cell_type": "code",
   "execution_count": 27,
   "id": "75d0da59",
   "metadata": {},
   "outputs": [
    {
     "data": {
      "text/plain": [
       "<sqlite3.Cursor at 0x28680f65540>"
      ]
     },
     "execution_count": 27,
     "metadata": {},
     "output_type": "execute_result"
    }
   ],
   "source": [
    "cursor.execute(table_creation_query1)\n",
    "cursor.execute(table_creation_query2)\n",
    "cursor.execute(table_creation_query3)"
   ]
  },
  {
   "cell_type": "code",
   "execution_count": 28,
   "id": "a2fd8155",
   "metadata": {},
   "outputs": [],
   "source": [
    "insert_query = \"\"\"\n",
    "INSERT INTO employees (emp_id, first_name, last_name, email, hire_date, salary)\n",
    "VALUES (?,?,?,?,?,?);\n",
    "\"\"\"\n",
    "\n",
    "insert_query_customers = \"\"\"\n",
    "INSERT INTO customers(cust_id, first_name, last_name, email,phone)\n",
    "VALUES (?,?,?,?,?,?);\n",
    "\"\"\"\n",
    "\n",
    "insert_query_orders = \"\"\"\n",
    "INSERT INTO employees (order_id,cust_id, order_date,ammount)\n",
    "VALUES (?,?,?,?,?,?);\n",
    "\"\"\""
   ]
  },
  {
   "cell_type": "code",
   "execution_count": 29,
   "id": "e4b5d291",
   "metadata": {},
   "outputs": [],
   "source": [
    "employee_data = [\n",
    "    (1, \"NS\", \"Loni\", \"as@gmail.com\", \"2023-12-14\", 320000.00),\n",
    "    (2, \"NSLONI\", \"Loni1\", \"ns@gmail.com\", \"2023-12-18\", 220000.00),\n",
    "    (3, \"NSL\", \"Loni2\", \"vs@gmail.com\", \"2023-12-17\", 120000.00),\n",
    "    (4, \"LONI\", \"loni3\", \"ss@gmail.com\", \"2023-12-16\", 80000.00)\n",
    "]\n",
    "\n",
    "customer_data = [\n",
    "    (1,\"as\", \"sd\", \"ns@gmail.com\", \"1234567890\"),\n",
    "    (2, \"sdd\", \"ad\", \"sdsdsdds@ds.com\", \"3453456346\"),\n",
    "    (3, \"sdd\", \"add\", \"sdsdsdds@wes.com\", \"34536546346\"),\n",
    "    (4, \"sdn\", \"aad\", \"sdsdsdds@ws.com\", \"345356666\")\n",
    "]\n",
    "\n",
    "orders_data = [\n",
    "    (1,1,\"2023-12-14\", 320000.00),\n",
    "    (2,2,\"2023-12-18\", 220000.00),\n",
    "    (3,3,\"2023-12-17\", 120000.00),\n",
    "    (4,4,\"2023-12-16\", 80000.00)\n",
    "]"
   ]
  },
  {
   "cell_type": "code",
   "execution_count": 32,
   "id": "b3cd8542",
   "metadata": {},
   "outputs": [
    {
     "ename": "OperationalError",
     "evalue": "database is locked",
     "output_type": "error",
     "traceback": [
      "\u001b[1;31m---------------------------------------------------------------------------\u001b[0m",
      "\u001b[1;31mOperationalError\u001b[0m                          Traceback (most recent call last)",
      "Cell \u001b[1;32mIn[32], line 1\u001b[0m\n\u001b[1;32m----> 1\u001b[0m cursor\u001b[38;5;241m.\u001b[39mexecutemany(insert_query, employee_data)\n\u001b[0;32m      2\u001b[0m cursor\u001b[38;5;241m.\u001b[39mexecutemany(insert_query_customers, customer_data)\n\u001b[0;32m      3\u001b[0m cursor\u001b[38;5;241m.\u001b[39mexecutemany(insert_query_orders, orders_data)\n",
      "\u001b[1;31mOperationalError\u001b[0m: database is locked"
     ]
    }
   ],
   "source": [
    "cursor.executemany(insert_query, employee_data)\n",
    "cursor.executemany(insert_query_customers, customer_data)\n",
    "cursor.executemany(insert_query_orders, orders_data)\n",
    "\n",
    "    "
   ]
  },
  {
   "cell_type": "code",
   "execution_count": null,
   "id": "78ea75d8",
   "metadata": {},
   "outputs": [],
   "source": []
  },
  {
   "cell_type": "code",
   "execution_count": null,
   "id": "07405f94",
   "metadata": {},
   "outputs": [],
   "source": []
  },
  {
   "cell_type": "code",
   "execution_count": null,
   "id": "aff22a0e",
   "metadata": {},
   "outputs": [],
   "source": []
  },
  {
   "cell_type": "code",
   "execution_count": null,
   "id": "1369d1a2",
   "metadata": {},
   "outputs": [],
   "source": []
  }
 ],
 "metadata": {
  "kernelspec": {
   "display_name": "Python 3",
   "language": "python",
   "name": "python3"
  },
  "language_info": {
   "codemirror_mode": {
    "name": "ipython",
    "version": 3
   },
   "file_extension": ".py",
   "mimetype": "text/x-python",
   "name": "python",
   "nbconvert_exporter": "python",
   "pygments_lexer": "ipython3",
   "version": "3.12.7"
  }
 },
 "nbformat": 4,
 "nbformat_minor": 5
}
